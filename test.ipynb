{
 "cells": [
  {
   "cell_type": "code",
   "execution_count": 13,
   "metadata": {},
   "outputs": [],
   "source": [
    "from pyspark.sql import SparkSession\n",
    "from pyspark.sql import functions as func \n",
    "from pyspark.sql.functions import col\n",
    "import matplotlib.pyplot as plt\n",
    "spark = SparkSession.builder.getOrCreate()\n",
    "import pandas"
   ]
  },
  {
   "cell_type": "code",
   "execution_count": 3,
   "metadata": {},
   "outputs": [
    {
     "name": "stderr",
     "output_type": "stream",
     "text": [
      "                                                                                \r"
     ]
    }
   ],
   "source": [
    "df = spark.read.csv(\"output.csv\", header=True)\n",
    "df2 = df.select(\"Name\", \"Price\")"
   ]
  },
  {
   "cell_type": "code",
   "execution_count": 4,
   "metadata": {},
   "outputs": [],
   "source": [
    "df10 = df2.groupBy(\"Name\").count()"
   ]
  },
  {
   "cell_type": "code",
   "execution_count": 5,
   "metadata": {},
   "outputs": [
    {
     "name": "stderr",
     "output_type": "stream",
     "text": [
      "[Stage 1:>                                                          (0 + 1) / 1]\r"
     ]
    },
    {
     "name": "stdout",
     "output_type": "stream",
     "text": [
      "+--------------------+-----+\n",
      "|                Name|count|\n",
      "+--------------------+-----+\n",
      "|BJ S WHOLESALE CL...|    1|\n",
      "|          3M COMPANY|    1|\n",
      "|BATH & BODY WORKS...|    1|\n",
      "|AERCAP HOLDINGS N.V.|    1|\n",
      "|ARBOR REALTY TRUS...|    1|\n",
      "|ALTICE USA INC. C...|    1|\n",
      "|        AMTD DIGITAL|    1|\n",
      "|AG MORTGAGE INVES...|    4|\n",
      "|AMN HEALTHCARE SE...|    1|\n",
      "|ARLINGTON ASSET I...|    1|\n",
      "|ARTISAN PARTNERS ...|    1|\n",
      "|AMNEAL PHARMACEUT...|    1|\n",
      "|   BADGER METER INC.|    1|\n",
      "|ARCELOR MITTAL NY...|    1|\n",
      "| ABM INDUSTRIES INC.|    1|\n",
      "|AMERICAN REALTY I...|    1|\n",
      "|APOLLO TACTICAL I...|    1|\n",
      "|          ARGAN INC.|    1|\n",
      "|BAIN CAPITAL SPEC...|    1|\n",
      "|BP PRUDHOE BAY RO...|    1|\n",
      "+--------------------+-----+\n",
      "only showing top 20 rows\n",
      "\n"
     ]
    },
    {
     "name": "stderr",
     "output_type": "stream",
     "text": [
      "                                                                                \r"
     ]
    }
   ],
   "source": [
    "df10.show()"
   ]
  },
  {
   "cell_type": "code",
   "execution_count": 6,
   "metadata": {},
   "outputs": [],
   "source": [
    "df1 = df.withColumn('Change', func.expr(\"CAST(SUBSTRING(Change, 1, LENGTH(Change)-1) AS FLOAT) /100\"))"
   ]
  },
  {
   "cell_type": "code",
   "execution_count": 7,
   "metadata": {},
   "outputs": [],
   "source": [
    "sorted_df1 = df1.orderBy(\"Change\", ascending=False).limit(10).select(\"Name\", \"Change\")"
   ]
  },
  {
   "cell_type": "code",
   "execution_count": 8,
   "metadata": {},
   "outputs": [
    {
     "name": "stdout",
     "output_type": "stream",
     "text": [
      "+--------------------+-------------------+\n",
      "|                Name|             Change|\n",
      "+--------------------+-------------------+\n",
      "|    ANNOVIS BIO INC.|0.28049999237060547|\n",
      "|AEVA TECHNOLOGIES...| 0.1743000030517578|\n",
      "| ADC THERAPEUTICS SA|0.15630000114440917|\n",
      "|        BOWFLEX INC.| 0.1322999954223633|\n",
      "|   BARK INC. CLASS A| 0.0759000015258789|\n",
      "|BLEND LABS INC. C...|0.07139999866485595|\n",
      "|     BIGBEAR.AI INC.|0.06320000171661377|\n",
      "|    BENSON HILL INC.|               0.06|\n",
      "|         ALCOA CORP.|0.05469999790191651|\n",
      "|ASHFORD HOSPITALI...|0.05469999790191651|\n",
      "+--------------------+-------------------+\n",
      "\n"
     ]
    }
   ],
   "source": [
    "sorted_df1.show()"
   ]
  },
  {
   "cell_type": "code",
   "execution_count": 21,
   "metadata": {},
   "outputs": [],
   "source": [
    "df2 = df.withColumn('Price', func.expr(\"CAST(SUBSTRING(Price, 1, LENGTH(Price)-1) AS FLOAT) /100\"))"
   ]
  },
  {
   "cell_type": "code",
   "execution_count": 22,
   "metadata": {},
   "outputs": [
    {
     "name": "stderr",
     "output_type": "stream",
     "text": [
      "                                                                                \r"
     ]
    },
    {
     "name": "stdout",
     "output_type": "stream",
     "text": [
      "+--------------------+--------------------+-------+------+------+------+---------+\n",
      "|                Name|               Price| Change|  Open|  High|   Low|   Volume|\n",
      "+--------------------+--------------------+-------+------+------+------+---------+\n",
      "|    3D SYSTEMS CORP.|0.061999998092651366| -0.96%|  6.27|  6.39|  6.12|1,540,603|\n",
      "|          3M COMPANY|  1.0630000305175782| +0.73%|105.88|107.40|105.75|2,281,350|\n",
      "|A.K.A. BRANDS HOL...| 0.08800000190734864| -7.11%|  9.55|  9.81|  8.74|   14,128|\n",
      "|    A.O. SMITH CORP.|  0.8169999694824219| +0.21%| 81.95| 82.03| 81.24|  449,428|\n",
      "|   A10 NETWORKS INC.| 0.13199999809265137| +0.30%| 13.25| 13.38| 13.14|  421,594|\n",
      "|           AAR CORP.|               0.635|-10.20%| 69.09| 70.49| 63.32|  965,875|\n",
      "| AARONS HOLDINGS CO.| 0.11100000381469727| -0.54%| 11.23| 11.48| 11.11|  309,440|\n",
      "| ABBOTT LABORATORIES|                1.09| +0.51%|108.86|109.34|108.50|2,565,656|\n",
      "|         ABBVIE INC.|  1.5489999389648437| +1.54%|153.29|155.46|153.09|3,359,139|\n",
      "|ABERCROMBIE & FIT...|               0.925| -0.65%| 91.50| 93.87| 90.20|1,215,705|\n",
      "| ABM INDUSTRIES INC.| 0.45599998474121095| +0.66%| 45.70| 46.30| 45.25|  526,126|\n",
      "|ABRDN GLOB. DYNAM...| 0.09399999618530273| +0.11%|  9.42|  9.49|  9.37|   60,980|\n",
      "|ABRDN GLOB. INFRA...| 0.17899999618530274| +1.41%| 17.81| 17.95| 17.71|   52,019|\n",
      "|ABRDN GLOB. PREMI...| 0.03799999952316284| -0.77%|  3.89|  3.91|  3.82|1,156,481|\n",
      "|ABRDN HEALTHCARE ...| 0.16299999237060547| +0.80%| 16.20| 16.50| 16.20|  343,523|\n",
      "|ABRDN HEALTHCARE ...| 0.18100000381469727| +0.95%| 17.92| 18.19| 17.92|  232,497|\n",
      "|ABRDN INC. CREDIT...| 0.06900000095367431| +0.00%|  6.92|  6.99|  6.88|  256,432|\n",
      "|ABRDN INC. CREDIT...| 0.22200000762939454| -0.49%| 22.19| 22.20| 22.19|    2,166|\n",
      "|ABRDN LIFE SCIENC...| 0.13300000190734862| +1.98%| 13.30| 13.49| 13.25|  201,478|\n",
      "|ABRDN TOTAL DYNAM...|                0.08| +0.37%|  8.05|  8.10|  8.04|  202,143|\n",
      "+--------------------+--------------------+-------+------+------+------+---------+\n",
      "only showing top 20 rows\n",
      "\n"
     ]
    }
   ],
   "source": [
    "df2.show()"
   ]
  },
  {
   "cell_type": "code",
   "execution_count": 23,
   "metadata": {},
   "outputs": [],
   "source": [
    "sorted_df2 = df2.orderBy(\"Price\", ascending=False).limit(10).select(\"Name\", \"Price\")"
   ]
  },
  {
   "cell_type": "code",
   "execution_count": 24,
   "metadata": {},
   "outputs": [
    {
     "name": "stdout",
     "output_type": "stream",
     "text": [
      "+--------------------+------------------+\n",
      "|                Name|             Price|\n",
      "+--------------------+------------------+\n",
      "|        BIGLARI HLD.| 8.405999755859375|\n",
      "|      BLACKROCK INC.| 8.024000244140625|\n",
      "|AMERIPRISE FINANC...|              3.76|\n",
      "|BERKSHIRE HATHAWA...|3.5639999389648436|\n",
      "|ACCENTURE PLC CLA...|3.5439999389648436|\n",
      "|     BOSTON BEER CO.|               3.5|\n",
      "|ALPHA METALLURGIC...|3.3979998779296876|\n",
      "|BIO-RAD LABORATORIES|3.2070001220703124|\n",
      "|BIO-RAD LABORATORIES|3.2060000610351564|\n",
      "|     AON PLC CLASS A|2.9160000610351564|\n",
      "+--------------------+------------------+\n",
      "\n"
     ]
    },
    {
     "name": "stderr",
     "output_type": "stream",
     "text": [
      "                                                                                \r"
     ]
    }
   ],
   "source": [
    "sorted_df2.show()"
   ]
  },
  {
   "cell_type": "code",
   "execution_count": 25,
   "metadata": {},
   "outputs": [
    {
     "name": "stderr",
     "output_type": "stream",
     "text": [
      "ERROR:root:KeyboardInterrupt while sending command.\n",
      "Traceback (most recent call last):\n",
      "  File \"/home/hadoop/.local/lib/python3.10/site-packages/py4j/java_gateway.py\", line 1038, in send_command\n",
      "    response = connection.send_command(command)\n",
      "  File \"/home/hadoop/.local/lib/python3.10/site-packages/py4j/clientserver.py\", line 511, in send_command\n",
      "    answer = smart_decode(self.stream.readline()[:-1])\n",
      "  File \"/usr/lib/python3.10/socket.py\", line 705, in readinto\n",
      "    return self._sock.recv_into(b)\n",
      "KeyboardInterrupt\n"
     ]
    }
   ],
   "source": [
    "sorted_df3 = df.orderBy(\"Volume\", ascending=False).limit(10).select(\"Name\", \"Volume\")"
   ]
  }
 ],
 "metadata": {
  "kernelspec": {
   "display_name": "Python 3",
   "language": "python",
   "name": "python3"
  },
  "language_info": {
   "codemirror_mode": {
    "name": "ipython",
    "version": 3
   },
   "file_extension": ".py",
   "mimetype": "text/x-python",
   "name": "python",
   "nbconvert_exporter": "python",
   "pygments_lexer": "ipython3",
   "version": "3.10.12"
  }
 },
 "nbformat": 4,
 "nbformat_minor": 2
}
